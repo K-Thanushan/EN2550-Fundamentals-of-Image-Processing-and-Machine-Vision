{
 "cells": [
  {
   "cell_type": "markdown",
   "metadata": {},
   "source": [
    "## Exercise-04\n",
    "## Index No - 190621M\n",
    "## Name - K. Thanushan"
   ]
  },
  {
   "cell_type": "markdown",
   "metadata": {},
   "source": [
    "### Question 1."
   ]
  },
  {
   "cell_type": "code",
   "execution_count": 1,
   "metadata": {},
   "outputs": [],
   "source": [
    "import numpy as np\n",
    "import cv2 as cv\n",
    "import matplotlib.pyplot as plt\n",
    "\n",
    "Image = cv.imread(\"sudoku.png\", cv.IMREAD_COLOR)\n",
    "assert Image is not None\n",
    "gray = cv.cvtColor(Image, cv.COLOR_BGR2GRAY)\n",
    "edges = cv.Canny(gray, 20, 120, apertureSize=3)\n",
    "lines = cv.HoughLines(edges, 1, np.pi/180, 150)\n",
    "\n",
    "for line in lines:\n",
    "    rho, theta = line[0]\n",
    "    a = np.cos(theta)\n",
    "    b = np.sin(theta)\n",
    "    x0, y0 = a*rho, b*rho\n",
    "    x1, y1 = int(x0 + 1000*(-b)), int(y0 + 1000*(a))\n",
    "    x2, y2 = int(x0 - 1000*(-b)), int(y0 - 1000*(a))\n",
    "    cv.line(Image, (x1,y1), (x2,y2), (0,0,255), 2)\n",
    "\n",
    "cv.namedWindow('Image', cv.WINDOW_NORMAL)\n",
    "cv.imshow('Image', gray)\n",
    "cv.waitKey(0)\n",
    "cv.imshow('Image', edges)\n",
    "cv.waitKey(0)\n",
    "cv.imshow('Image', lines)\n",
    "cv.waitKey(0)\n",
    "\n"
   ]
  },
  {
   "cell_type": "markdown",
   "metadata": {},
   "source": [
    "### Question 2."
   ]
  },
  {
   "cell_type": "code",
   "execution_count": 10,
   "metadata": {},
   "outputs": [],
   "source": [
    "import numpy as np\n",
    "import cv2 as cv\n",
    "import matplotlib.pyplot as plt\n",
    "\n",
    "Image = cv.imread(\"coins.jpg\", cv.IMREAD_COLOR)\n",
    "assert Image is not None\n",
    "gray = cv.cvtColor(Image, cv.COLOR_BGR2GRAY)\n",
    "\n",
    "circles = cv.HoughCircles(gray, cv.HOUGH_GRADIENT, 1, 50, param1 = 150, param2 = 20, minRadius=20, maxRadius=50)\n",
    "circles = np.uint16(np.around(circles))\n",
    "for i in circles[0,:]:\n",
    "    #Draw the outer circle\n",
    "    cv.circle(Image, (i[0], i[1]), i[2], (0,255,0),2)\n",
    "    #Draw the center of the circle\n",
    "    cv.circle(Image, (i[0], i[1]), 2, (0,255,0),3)\n",
    "\n",
    "cv.imshow(\"Detected Circles\", Image)\n",
    "cv.waitKey(0)\n",
    "cv.destroyAllWindows()\n",
    "\n"
   ]
  },
  {
   "cell_type": "markdown",
   "metadata": {},
   "source": [
    "### Question 3."
   ]
  },
  {
   "cell_type": "code",
   "execution_count": 14,
   "metadata": {},
   "outputs": [
    {
     "name": "stdout",
     "output_type": "stream",
     "text": [
      "x = 29.0, y = 109.0, scale = 1.0, orientation = 0.0, p1 = (4, 76), p2 = (54, 141)\n"
     ]
    }
   ],
   "source": [
    "import numpy as np\n",
    "import cv2 as cv\n",
    "\n",
    "Image = cv.imread(\"pic1.png\", cv.IMREAD_REDUCED_GRAYSCALE_2)\n",
    "assert Image is not None\n",
    "temp1 = cv.imread('templ.png', cv.IMREAD_REDUCED_GRAYSCALE_2)\n",
    "assert temp1 is not None\n",
    "\n",
    "im_edges = cv.Canny(Image, 50, 250)\n",
    "temp1_edges = cv.Canny(temp1, 50, 250)\n",
    "alg = cv.createGeneralizedHoughGuil()\n",
    "alg.setTemplate(temp1_edges)\n",
    "alg.setAngleThresh(100000)\n",
    "alg.setScaleThresh(40000)\n",
    "alg.setPosThresh(1000)\n",
    "alg.setAngleStep(1)\n",
    "alg.setScaleStep(0.1)\n",
    "alg.setMinScale(0.9)\n",
    "alg.setMaxScale(1.1)\n",
    "positions, vote = alg.detect(im_edges)\n",
    "\n",
    "out = cv.cvtColor(Image, cv.COLOR_BAYER_BG2BGR)\n",
    "for x, y, scale, orientation in positions[0]:\n",
    "    halfHeight = temp1.shape[0]/2.*scale\n",
    "    halfWidth = temp1.shape[1]/2.*scale\n",
    "    p1 = (int(x - halfWidth), int(y-halfHeight))\n",
    "    p2 = (int(x + halfWidth), int(y+halfHeight))\n",
    "    print(\"x = {}, y = {}, scale = {}, orientation = {}, p1 = {}, p2 = {}\".format(x, y, scale, orientation, p1, p2))\n",
    "    cv.rectangle(out, p1, p2, (0,0,255))\n",
    "\n",
    "\n",
    "cv.imshow(\"Detected Circles\", Image)\n",
    "cv.waitKey(0)\n",
    "cv.destroyAllWindows()\n",
    "\n"
   ]
  },
  {
   "cell_type": "markdown",
   "metadata": {},
   "source": [
    "### Question 4."
   ]
  },
  {
   "cell_type": "code",
   "execution_count": null,
   "metadata": {},
   "outputs": [],
   "source": []
  },
  {
   "cell_type": "markdown",
   "metadata": {},
   "source": [
    "### Question 5."
   ]
  },
  {
   "cell_type": "code",
   "execution_count": null,
   "metadata": {},
   "outputs": [],
   "source": []
  },
  {
   "cell_type": "markdown",
   "metadata": {},
   "source": [
    "### Question 6."
   ]
  },
  {
   "cell_type": "code",
   "execution_count": null,
   "metadata": {},
   "outputs": [],
   "source": []
  },
  {
   "cell_type": "markdown",
   "metadata": {},
   "source": [
    "### Question 7."
   ]
  },
  {
   "cell_type": "code",
   "execution_count": null,
   "metadata": {},
   "outputs": [],
   "source": []
  }
 ],
 "metadata": {
  "interpreter": {
   "hash": "2be5faf79681da6f2a61fdfdd5405d65d042280f7fba6178067603e3a2925119"
  },
  "kernelspec": {
   "display_name": "Python 3.10.0 64-bit",
   "language": "python",
   "name": "python3"
  },
  "language_info": {
   "codemirror_mode": {
    "name": "ipython",
    "version": 3
   },
   "file_extension": ".py",
   "mimetype": "text/x-python",
   "name": "python",
   "nbconvert_exporter": "python",
   "pygments_lexer": "ipython3",
   "version": "3.10.0"
  },
  "orig_nbformat": 4
 },
 "nbformat": 4,
 "nbformat_minor": 2
}
