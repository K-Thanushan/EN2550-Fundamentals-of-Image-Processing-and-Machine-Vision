{
  "cells": [
    {
      "cell_type": "markdown",
      "metadata": {},
      "source": [
        "### Exercise-01\n",
        "### Index No - 190621M\n",
        "### Name - K. Thanushan"
      ]
    },
    {
      "cell_type": "code",
      "execution_count": 45,
      "metadata": {
        "colab": {
          "base_uri": "https://localhost:8080/"
        },
        "id": "ZtzuA4acha8a",
        "outputId": "c87b29c3-8f27-44be-ebec-9e7c8e86b160"
      },
      "outputs": [
        {
          "name": "stdout",
          "output_type": "stream",
          "text": [
            "1 :  1\n",
            "2 :  4\n",
            "3 :  9\n",
            "4 :  16\n",
            "5 :  25\n"
          ]
        }
      ],
      "source": [
        "#Question 1\n",
        "for i in range(1,6):\n",
        "  print(i, ': ', i**2)\n",
        "  "
      ]
    },
    {
      "cell_type": "code",
      "execution_count": 46,
      "metadata": {
        "colab": {
          "base_uri": "https://localhost:8080/"
        },
        "id": "4MWJmXJ_hy88",
        "outputId": "512736e9-044d-4acb-85dc-b80eaf59bffb"
      },
      "outputs": [
        {
          "name": "stdout",
          "output_type": "stream",
          "text": [
            "1 :  1\n",
            "4 :  16\n"
          ]
        }
      ],
      "source": [
        "#Question 2\n",
        "import sympy\n",
        "for i in range(1,6):\n",
        "  if not sympy.isprime(i):\n",
        "    print(i, ': ', i**2)"
      ]
    },
    {
      "cell_type": "code",
      "execution_count": 47,
      "metadata": {
        "colab": {
          "base_uri": "https://localhost:8080/"
        },
        "id": "JIHKDFFtigdl",
        "outputId": "94c0a1d8-c43b-4791-8d0d-3cd7968fb394"
      },
      "outputs": [
        {
          "name": "stdout",
          "output_type": "stream",
          "text": [
            "0 :  1\n",
            "1 :  4\n",
            "2 :  9\n",
            "3 :  16\n",
            "4 :  25\n"
          ]
        }
      ],
      "source": [
        "#Question 3\n",
        "squares = [i**2 for i in range(1,6)]\n",
        "for i in enumerate(squares):\n",
        "  print(i[0], ': ', i[1])"
      ]
    },
    {
      "cell_type": "code",
      "execution_count": 49,
      "metadata": {
        "colab": {
          "base_uri": "https://localhost:8080/"
        },
        "id": "OMzHHhe-jkc_",
        "outputId": "5f75dde4-fe70-4f45-8000-efb403175138"
      },
      "outputs": [
        {
          "data": {
            "text/plain": [
              "[1, 16]"
            ]
          },
          "execution_count": 49,
          "metadata": {},
          "output_type": "execute_result"
        }
      ],
      "source": [
        "#Question 4\n",
        "squares = [i**2 for i in range(1,6) if not sympy.isprime(i)]\n",
        "squares"
      ]
    },
    {
      "cell_type": "code",
      "execution_count": 50,
      "metadata": {
        "colab": {
          "base_uri": "https://localhost:8080/"
        },
        "id": "BMqmJOQXlnhw",
        "outputId": "3eb4cac7-4809-4f41-ebf6-7ef4b981da6c"
      },
      "outputs": [
        {
          "name": "stdout",
          "output_type": "stream",
          "text": [
            "[[ 9 12 15  9]\n",
            " [25 32 39 19]\n",
            " [41 52 63 29]]\n",
            "[[ 9 12 15  9]\n",
            " [25 32 39 19]\n",
            " [41 52 63 29]]\n",
            "[[ 9 12 15  9]\n",
            " [25 32 39 19]\n",
            " [41 52 63 29]]\n"
          ]
        }
      ],
      "source": [
        "#Question 5 a\n",
        "import numpy as np\n",
        "A = np.array([[1,2],[3,4],[5,6]])\n",
        "B = np.array([[7,8,9,1], [1,2,3,4]])\n",
        "print(np.dot(A,B))\n",
        "print(np.matmul(A,B))\n",
        "print(A@B)"
      ]
    },
    {
      "cell_type": "code",
      "execution_count": 51,
      "metadata": {
        "colab": {
          "base_uri": "https://localhost:8080/"
        },
        "id": "wKd1EuchmrhX",
        "outputId": "d8555fde-70f5-41f0-f9a2-241c599eed6a"
      },
      "outputs": [
        {
          "name": "stdout",
          "output_type": "stream",
          "text": [
            "[[ 3  4]\n",
            " [15 16]\n",
            " [15  6]]\n"
          ]
        }
      ],
      "source": [
        "#Question 5 b\n",
        "A = np.array([[1,2],[3,4],[5,6]])\n",
        "B = np.array([[3,2],[5,4],[3,1]])\n",
        "print(A*B)"
      ]
    },
    {
      "cell_type": "code",
      "execution_count": 52,
      "metadata": {},
      "outputs": [
        {
          "name": "stdout",
          "output_type": "stream",
          "text": [
            "B = \n",
            "[[ 2]\n",
            " [ 5]\n",
            " [10]]\n",
            "C = \n",
            "[[ 5  4]\n",
            " [ 2  7]\n",
            " [ 5  2]\n",
            " [10  5]\n",
            " [ 0  8]]\n"
          ]
        }
      ],
      "source": [
        "#Question 6\n",
        "A = np.random.randint(11, size = (5,7))\n",
        "B = A[1:4, 0:1]\n",
        "C = A[:,0:2]\n",
        "print(\"B = \")\n",
        "print(B)\n",
        "print(\"C = \")\n",
        "print(C)"
      ]
    },
    {
      "cell_type": "code",
      "execution_count": 53,
      "metadata": {},
      "outputs": [
        {
          "name": "stdout",
          "output_type": "stream",
          "text": [
            "[[11 13 15]\n",
            " [24 26 18]\n",
            " [37 39 41]]\n"
          ]
        }
      ],
      "source": [
        "#Question 7\n",
        "#Example 1\n",
        "import numpy as np\n",
        "A = np.array([[1,2,3],[14,15,6],[27,28,29]])\n",
        "B = np.array([10,11,12])\n",
        "C = A+B\n",
        "print(C)"
      ]
    },
    {
      "cell_type": "code",
      "execution_count": 54,
      "metadata": {},
      "outputs": [
        {
          "name": "stdout",
          "output_type": "stream",
          "text": [
            "[[11 13 15]\n",
            " [24 26 18]\n",
            " [37 39 41]]\n"
          ]
        }
      ],
      "source": [
        "#Question 7\n",
        "#Example 2\n",
        "import numpy as np\n",
        "C = np.zeros_like(A)\n",
        "for i in range(3):\n",
        "    C[i:] = A[i:] + B\n",
        "print(C)"
      ]
    },
    {
      "cell_type": "code",
      "execution_count": 55,
      "metadata": {},
      "outputs": [
        {
          "name": "stdout",
          "output_type": "stream",
          "text": [
            "[[11 13 15]\n",
            " [24 26 18]\n",
            " [37 39 41]]\n"
          ]
        }
      ],
      "source": [
        "#Question 7\n",
        "#Example 3\n",
        "E = np.tile(B, (3,1))\n",
        "C = A + E\n",
        "print(C)"
      ]
    },
    {
      "cell_type": "code",
      "execution_count": 56,
      "metadata": {
        "colab": {
          "base_uri": "https://localhost:8080/",
          "height": 266
        },
        "id": "LadgBwrooFfN",
        "outputId": "6e39591b-b36c-45f5-8d4c-7f87f00eec1a"
      },
      "outputs": [
        {
          "name": "stdout",
          "output_type": "stream",
          "text": [
            "[[-6.70079775]\n",
            " [ 2.05998911]]\n"
          ]
        },
        {
          "data": {
            "image/png": "[encoded data removed]",
            "text/plain": [
              "<Figure size 432x288 with 1 Axes>"
            ]
          },
          "metadata": {
            "needs_background": "light"
          },
          "output_type": "display_data"
        }
      ],
      "source": [
        "#Question 8\n",
        "import numpy as np\n",
        "from numpy import linalg\n",
        "import matplotlib.pyplot as plt\n",
        "\n",
        "m, c = 2 , -4\n",
        "N = 100\n",
        "x = np.linspace (0 , N-1, N).reshape (N, 1 )\n",
        "sigma = 10\n",
        "y = m*x + c + np . random . normal (0 , sigma , (N, 1 ) )\n",
        "plt = plt.scatter(x,y)\n",
        "\n",
        "X = np.append(np.ones((N,1)), x, axis = 1)\n",
        "W = linalg.inv((X.T)@X)@(X.T)@y\n",
        "\n",
        "print(W)\n"
      ]
    },
    {
      "cell_type": "code",
      "execution_count": 92,
      "metadata": {
        "colab": {
          "base_uri": "https://localhost:8080/",
          "height": 130
        },
        "id": "lOgfEvxyrXC5",
        "outputId": "891130e6-63d9-493f-c288-52c2a832ee4d"
      },
      "outputs": [],
      "source": [
        "#Question 10\n",
        "import cv2 as cv\n",
        "\n",
        "im = cv.imread(r'gal_gaussian.png')\n",
        "assert im is not None\n",
        "\n",
        "blur = cv.GaussianBlur(im, (5,5),0)\n",
        "\n",
        "cv.namedWindow('Image', cv.WINDOW_AUTOSIZE)\n",
        "cv.imshow('Image', im)\n",
        "cv.waitKey(0)\n",
        "cv.imshow('Image', blur)\n",
        "cv.waitKey(0)\n",
        "cv.destroyAllWindows()"
      ]
    },
    {
      "cell_type": "code",
      "execution_count": 93,
      "metadata": {},
      "outputs": [],
      "source": [
        "#Question 11\n",
        "import cv2 as cv\n",
        "\n",
        "im = cv.imread(r'gal_sandp.png')\n",
        "assert im is not None\n",
        "\n",
        "median_im = cv.medianBlur(im,5)\n",
        "cv.namedWindow('Image', cv.WINDOW_AUTOSIZE)\n",
        "cv.imshow('Image', median_im)\n",
        "cv.waitKey(0)\n",
        "cv.destroyAllWindows()"
      ]
    },
    {
      "cell_type": "code",
      "execution_count": 94,
      "metadata": {
        "colab": {
          "base_uri": "https://localhost:8080/",
          "height": 130
        },
        "id": "rzyjt-bru_FT",
        "outputId": "4f44e939-f403-488b-f2fa-ae3f8546e87e"
      },
      "outputs": [
        {
          "data": {
            "image/png": "[encoded data removed]",
            "text/plain": [
              "<Figure size 432x288 with 1 Axes>"
            ]
          },
          "metadata": {
            "needs_background": "light"
          },
          "output_type": "display_data"
        }
      ],
      "source": [
        "#Question 12\n",
        "import numpy as np\n",
        "import cv2 as cv\n",
        "import matplotlib.pyplot as plt\n",
        "\n",
        "im = np.zeros((40,60), dtype=np.uint8)\n",
        "im[0:21, 30:61] = 125\n",
        "\n",
        "fig,ax = plt.subplots()\n",
        "ax.imshow(im, cmap='gray', vmin=0,vmax=255)\n",
        "plt.show()"
      ]
    },
    {
      "cell_type": "code",
      "execution_count": 95,
      "metadata": {},
      "outputs": [
        {
          "data": {
            "image/png": "[encoded data removed]",
            "text/plain": [
              "<Figure size 432x288 with 1 Axes>"
            ]
          },
          "metadata": {
            "needs_background": "light"
          },
          "output_type": "display_data"
        }
      ],
      "source": [
        "#Question 13\n",
        "import numpy as np\n",
        "import cv2 as cv\n",
        "import matplotlib.pyplot as plt\n",
        "\n",
        "im = np.zeros((40,60,3), dtype=np.uint8)\n",
        "im[:] = (0,124,255)\n",
        "im[21:41, 0:31] = (224,24,132)\n",
        "\n",
        "fig,ax = plt.subplots()\n",
        "ax.imshow(im, cmap='pink', vmin=0,vmax=255)\n",
        "plt.show()"
      ]
    },
    {
      "cell_type": "code",
      "execution_count": 96,
      "metadata": {},
      "outputs": [],
      "source": [
        "#Question 14\n",
        "import cv2 as cv\n",
        "\n",
        "im = cv.imread(r'tom_dark.jpg')\n",
        "assert im is not None\n",
        "im +=20\n",
        "\n",
        "cv.namedWindow('Image', cv.WINDOW_AUTOSIZE)\n",
        "cv.imshow('Image', im)\n",
        "cv.waitKey(0)\n",
        "cv.destroyAllWindows()"
      ]
    }
  ],
  "metadata": {
    "colab": {
      "collapsed_sections": [],
      "name": "EN2550-Exercise1.ipynb",
      "provenance": []
    },
    "interpreter": {
      "hash": "63fd5069d213b44bf678585dea6b12cceca9941eaf7f819626cde1f2670de90d"
    },
    "kernelspec": {
      "display_name": "Python 3.9.6 64-bit",
      "name": "python3"
    },
    "language_info": {
      "codemirror_mode": {
        "name": "ipython",
        "version": 3
      },
      "file_extension": ".py",
      "mimetype": "text/x-python",
      "name": "python",
      "nbconvert_exporter": "python",
      "pygments_lexer": "ipython3",
      "version": "3.10.0"
    }
  },
  "nbformat": 4,
  "nbformat_minor": 0
}
