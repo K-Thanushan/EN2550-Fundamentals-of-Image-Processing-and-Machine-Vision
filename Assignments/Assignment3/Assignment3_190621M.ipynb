{
 "cells": [
  {
   "cell_type": "markdown",
   "metadata": {},
   "source": [
    "## EN2550: Assignment 03 on Object Counting on a Conveyor Belt"
   ]
  },
  {
   "cell_type": "markdown",
   "metadata": {},
   "source": [
    "### Connected Component Analysis"
   ]
  },
  {
   "cell_type": "markdown",
   "metadata": {},
   "source": [
    "#### Loading Images"
   ]
  },
  {
   "cell_type": "code",
   "execution_count": null,
   "metadata": {},
   "outputs": [],
   "source": [
    "import cv2 as cv\n",
    "import numpy as np\n",
    "import matplotlib.pyplot as plt\n",
    "\n",
    "hexnut_template = cv.imread('hexnut_template.png', cv.IMREAD_COLOR)\n",
    "squarenut_template =  cv.imread('squarenut_template.png', cv.IMREAD_COLOR)\n",
    "conveyor_f100 =  cv.imread('conveyor_f100.png', cv.IMREAD_COLOR)\n",
    "\n",
    "fig, ax = plt. subplots(1,3)\n",
    "ax[0].imshow(cv.cvtColor(hexnut_template, cv.COLOR_RGB2BGR))\n",
    "ax[1].imshow(cv.cvtColor(squarenut_template, cv.COLOR_RGB2BGR))\n",
    "ax[2].imshow(cv.cvtColor(conveyor_f100, cv.COLOR_RGB2BGR))\n",
    "plt.show()"
   ]
  },
  {
   "cell_type": "markdown",
   "metadata": {},
   "source": [
    "#### Otsu's Thresholding"
   ]
  },
  {
   "cell_type": "code",
   "execution_count": null,
   "metadata": {},
   "outputs": [],
   "source": [
    "hexnut_template_gray = cv.cvtColor(hexnut_template, cv.COLOR_BGR2GRAY)\n",
    "hexnut_template_blur = cv.GaussianBlur(hexnut_template_gray,(5,5),0)\n",
    "ret3,hexnut_template_th = cv.threshold(hexnut_template_blur,0,255,cv.THRESH_BINARY+cv.THRESH_OTSU)\n",
    "\n",
    "squarenut_template_gray = cv.cvtColor(squarenut_template, cv.COLOR_BGR2GRAY)\n",
    "squarenut_template_blur = cv.GaussianBlur(squarenut_template_gray,(5,5),0)\n",
    "ret3,squarenut_template_th = cv.threshold(squarenut_template_blur,0,255,cv.THRESH_BINARY+cv.THRESH_OTSU)\n",
    "\n",
    "conveyor_f100_gray = cv.cvtColor(conveyor_f100, cv.COLOR_BGR2GRAY)\n",
    "conveyor_f100_blur = cv.GaussianBlur(conveyor_f100_gray,(5,5),0)\n",
    "ret3,conveyor_f100_th = cv.threshold(conveyor_f100_blur,0,255,cv.THRESH_BINARY+cv.THRESH_OTSU)\n",
    "\n",
    "fig, ax = plt. subplots(1,3, figsize = (18,6))\n",
    "ax[0].imshow(hexnut_template_th, 'gray')\n",
    "ax[1].imshow(squarenut_template_th, 'gray')\n",
    "ax[2].imshow(conveyor_f100_th, 'gray')\n",
    "plt.show()"
   ]
  },
  {
   "cell_type": "markdown",
   "metadata": {},
   "source": [
    "#### Morphological Closing"
   ]
  },
  {
   "cell_type": "code",
   "execution_count": null,
   "metadata": {},
   "outputs": [],
   "source": [
    "kernel = np.ones((3,3),np.uint8)\n",
    "\n",
    "hexnut_template_closed = cv.morphologyEx(hexnut_template_th, cv.MORPH_CLOSE, kernel)\n",
    "squarenut_template_closed = cv.morphologyEx(squarenut_template_th, cv.MORPH_CLOSE, kernel)\n",
    "conveyor_f100_closed = cv.morphologyEx(conveyor_f100_th, cv.MORPH_CLOSE, kernel)\n",
    "\n",
    "fig, ax = plt. subplots(1,3, figsize = (18,6))\n",
    "ax[0].imshow(hexnut_template_closed, 'gray')\n",
    "ax[1].imshow(squarenut_template_closed, 'gray')\n",
    "ax[2].imshow(conveyor_f100_closed, 'gray')\n",
    "plt.show()"
   ]
  },
  {
   "cell_type": "markdown",
   "metadata": {},
   "source": [
    "#### Connected Component Analysis\n",
    "https://www.programcreek.com/python/example/89340/cv2.connectedComponentsWithStats"
   ]
  },
  {
   "cell_type": "code",
   "execution_count": 30,
   "metadata": {},
   "outputs": [
    {
     "name": "stdout",
     "output_type": "stream",
     "text": [
      "6\n",
      "[[    651     151     895     499   13922]\n",
      " [      0       0    1920    1080 2051850]\n",
      " [   1476     176      49      49    1957]\n",
      " [   1276     376      49      49    1957]\n",
      " [   1476     476      49      49    1957]\n",
      " [    676     576      49      49    1957]]\n",
      "[[1274.77776182  400.05430254]\n",
      " [ 956.25252528  540.88298072]\n",
      " [1500.          200.        ]\n",
      " [1300.          400.        ]\n",
      " [1500.          500.        ]\n",
      " [ 700.          600.        ]]\n"
     ]
    },
    {
     "data": {
      "image/png": "[encoded data removed]",
      "text/plain": [
       "<Figure size 1296x432 with 1 Axes>"
      ]
     },
     "metadata": {
      "needs_background": "light"
     },
     "output_type": "display_data"
    }
   ],
   "source": [
    "connectivity = 8\n",
    "num_labels, labels, stats, centroids = cv.connectedComponentsWithStats(conveyor_f100_closed, connectivity)\n",
    "print(num_labels)\n",
    "print(stats)\n",
    "print(centroids)\n",
    "#Color_image = cv.cvtColor(labels, cv.COLOR_GRAY2RGB)\n",
    "fig, ax = plt. subplots(1,1, figsize = (18,6))\n",
    "ax.imshow(labels, 'gray')\n",
    "plt.show()"
   ]
  },
  {
   "cell_type": "code",
   "execution_count": 49,
   "metadata": {},
   "outputs": [
    {
     "data": {
      "image/png": "[encoded data removed]",
      "text/plain": [
       "<Figure size 1296x432 with 1 Axes>"
      ]
     },
     "metadata": {
      "needs_background": "light"
     },
     "output_type": "display_data"
    }
   ],
   "source": [
    "contours, hierarchy = cv.findContours(conveyor_f100_closed, cv.RETR_EXTERNAL, cv.CHAIN_APPROX_SIMPLE)\n",
    "cv.drawContours(conveyor_f100, contours, -1, (0,255,0), 2)\n",
    "fig, ax = plt. subplots(1,1, figsize = (18,6))\n",
    "ax.imshow(conveyor_f100)\n",
    "plt.show()"
   ]
  },
  {
   "cell_type": "markdown",
   "metadata": {},
   "source": [
    "### Detecting Objects on a Synthetic Conveyor"
   ]
  },
  {
   "cell_type": "code",
   "execution_count": 23,
   "metadata": {},
   "outputs": [
    {
     "name": "stdout",
     "output_type": "stream",
     "text": [
      "Can't receive frame (stream end?). Exiting.\n"
     ]
    }
   ],
   "source": [
    "cv.namedWindow('Conveyor', cv.WINDOW_NORMAL)\n",
    "cap = cv.VideoCapture('conveyor.mp4')\n",
    "f = 0\n",
    "frame = []      \n",
    "while cap.isOpened():                                    \n",
    "    ret, frame = cap.read()\n",
    "    if not ret:\n",
    "        print(\"Can't receive frame (stream end?). Exiting.\")\n",
    "        break\n",
    "\n",
    "    f += 1\n",
    "    text = 'Frame:' + str(f)\n",
    "    cv.putText(frame,text , (100, 100), cv.FONT_HERSHEY_COMPLEX, 1, (0,250,0), 1, cv.LINE_AA)\n",
    "    cv.imshow('Conveyor', frame)\n",
    "\n",
    "    if cv.waitKey(1) == ord('q'):  \n",
    "        break\n",
    "\n",
    "cap.release()\n",
    "cv.destroyAllWindows()"
   ]
  }
 ],
 "metadata": {
  "interpreter": {
   "hash": "369f2c481f4da34e4445cda3fffd2e751bd1c4d706f27375911949ba6bb62e1c"
  },
  "kernelspec": {
   "display_name": "Python 3.10.0 64-bit",
   "language": "python",
   "name": "python3"
  },
  "language_info": {
   "codemirror_mode": {
    "name": "ipython",
    "version": 3
   },
   "file_extension": ".py",
   "mimetype": "text/x-python",
   "name": "python",
   "nbconvert_exporter": "python",
   "pygments_lexer": "ipython3",
   "version": "3.10.0"
  },
  "orig_nbformat": 4
 },
 "nbformat": 4,
 "nbformat_minor": 2
}
